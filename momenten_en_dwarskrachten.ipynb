{
 "cells": [
  {
   "cell_type": "code",
   "execution_count": 1,
   "metadata": {},
   "outputs": [],
   "source": [
    "import numpy as np\n",
    "import scipy.integrate as it\n",
    "import matplotlib.pyplot as plt\n",
    "\n",
    "import sys\n",
    "sys.path.insert(0,r'C:\\Users\\mdk\\Documents\\Python Scripts\\MNKappa')\n",
    "\n",
    "import area as area"
   ]
  },
  {
   "cell_type": "code",
   "execution_count": 2,
   "metadata": {},
   "outputs": [],
   "source": [
    "# soortelijke massa beton\n",
    "gam_c = 24 #kN/m³\n",
    "\n",
    "#parameters cross section\n",
    "# cs1 = area.Cross_section('cs1', [[0,0], [400,0], [400,130], [270,260],[270,740],[400,870],[400,1000],[0,1000],[0,870],[130,740],[130,260],[0,130]])\n",
    "cs1 = area.Cross_section('test', [[0,0],[400,0],[400,1000],[0,1000]]) #T = [800,800],[800,1000],[-400,1000],[-400,800]\n",
    "\n",
    "\n",
    "#parameters girder\n",
    "L = 5\n",
    "A = cs1.area*1e-6 #cross section area\n",
    "h = cs1.height/1000 #m\n",
    "\n",
    "interval = 0.25\n",
    "L_x = np.arange(0,L/2+interval,interval)\n",
    "\n",
    "# prestressed reinforcement\n",
    "A_strands = 50 #mm²\n",
    "sigp_0 = 1235 #MPa\n",
    "sigp_inf = 0.8*sigp_0 #MPa\n",
    "\n",
    "reinf_strait = [[8*A_strands,h-0.04],[6*A_strands,h-0.08],[2*A_strands,h-0.115]] #vsp in rechte lijn [Ap,d]\n",
    "reinf_bend = [[4*A_strands,h-0.425,h-0.02],[4*A_strands,h-0.525,h-0.06],[4*A_strands,h-0.895,h-0.1]] #vsp in boogstraal [Ap,d_edge,d_mid] d op liggereinde\n",
    "f = [i[2]-i[1] for i in reinf_bend]\n",
    "pos_knik = L-2.5\n",
    "\n",
    "ep_strait = [i[1]-h/2 for i in reinf_strait]\n",
    "ep_bend = [i[1]-h/2 for i in reinf_bend]\n"
   ]
  },
  {
   "cell_type": "code",
   "execution_count": 4,
   "metadata": {},
   "outputs": [],
   "source": [
    "#loads\n",
    "Pm_strait = np.asarray([i[0]*sigp_inf * -10**-3 for i in reinf_strait])\n",
    "Pm_bend = np.asarray([i[0]*sigp_inf * -10**-3 for i in reinf_bend])\n",
    "\n",
    "qg = gam_c*A\n",
    "\n",
    "#pointload from prestress\n",
    "alpha_p = [i/pos_knik for i in f]\n",
    "Fp = sum([i*a for i,a in zip(Pm_bend,alpha_p)])\n",
    "\n",
    "# pointload\n",
    "a_f = np.arange(0,L/2+interval,interval)\n",
    "b_f = L-a_f\n",
    "F = 700\n",
    "\n",
    "# Moments\n",
    "Mpf = np.where(L_x<=pos_knik,Fp*(L-pos_knik)/L*L_x,(Fp*(L-pos_knik)/L*(pos_knik+interval)-Fp*pos_knik/L*(L_x-pos_knik))) # bij doorgezaagde balk geldt: 0.5*Fp*L_x, 0.5*Fp*pos_knik\n",
    "Mp = np.full_like(L_x,sum([P*e for P,e in zip(Pm_strait,ep_strait)])+sum([P*e for P,e in zip(Pm_bend,ep_bend)]))\n",
    "Mg = 0.5 * (qg) * L_x * (L - L_x)\n",
    "\n",
    "Mf = np.where(L_x<=a_f,F*b_f/L*L_x,(F*b_f/L*(a_f+interval)-F*a_f/L*(L_x-a_f)))\n",
    "\n",
    "M = Mpf+Mf+Mp+Mg\n",
    "\n",
    "#shear (Nog uitzoeken)\n",
    "Vpf = np.gradient(Mpf,L_x)\n",
    "Vp = np.gradient(Mp,L_x)\n",
    "Vg = np.gradient(Mg,L_x)\n",
    "\n",
    "Vf = np.gradient(Mf,L_x)\n",
    "\n",
    "V = np.gradient(M,L_x)"
   ]
  },
  {
   "cell_type": "code",
   "execution_count": 7,
   "metadata": {},
   "outputs": [
    {
     "data": {
      "image/png": "[encoded data removed]",
      "text/plain": [
       "<Figure size 432x288 with 1 Axes>"
      ]
     },
     "metadata": {
      "needs_background": "light"
     },
     "output_type": "display_data"
    },
    {
     "data": {
      "image/png": "[encoded data removed]",
      "text/plain": [
       "<Figure size 432x288 with 1 Axes>"
      ]
     },
     "metadata": {
      "needs_background": "light"
     },
     "output_type": "display_data"
    }
   ],
   "source": [
    "plt.plot(L_x,-Mf)\n",
    "plt.show()\n",
    "\n",
    "plt.plot(L_x,Vf,'c')\n",
    "plt.show()"
   ]
  },
  {
   "cell_type": "code",
   "execution_count": 6,
   "metadata": {},
   "outputs": [],
   "source": [
    "sig_bend = np.outer(cs1.sig_bend_unit()[:,0], Mf*1e6)\n",
    "sig_norm = np.outer(cs1.sig_norm_unit()[:,0], np.full_like(M,(np.sum(Pm_bend)+np.sum( Pm_strait))*1e3))\n",
    "sig_tot = sig_bend + sig_norm\n",
    "\n",
    "tau = np.multiply.outer(cs1.tau_unit(), Vf)\n",
    "\n",
    "prin_stress = area.principle_stress_section(sig_tot,tau[:,0]) #out is sig1, sig2, theta"
   ]
  },
  {
   "cell_type": "code",
   "execution_count": null,
   "metadata": {},
   "outputs": [],
   "source": [
    "#NOTE!! tekenafspraken assenstelsel: x in balkrichting, y diepterichting, ,z \n",
    "#(positief moment geeft trek (positieve spanning) aan onderzijde)\n",
    "print(prin_stress[0].shape)\n",
    "plt.plot(prin_stress[0][:,3],cs1.width_at_z()[::-1,1]-cs1.center_of_gravity)\n",
    "plt.ylim((cs1.z_arr()-cs1.center_of_gravity).max(),(cs1.z_arr()-cs1.center_of_gravity).min())\n",
    "plt.grid(True)\n",
    "plt.show()\n"
   ]
  },
  {
   "cell_type": "code",
   "execution_count": null,
   "metadata": {},
   "outputs": [],
   "source": []
  },
  {
   "cell_type": "code",
   "execution_count": null,
   "metadata": {},
   "outputs": [],
   "source": []
  }
 ],
 "metadata": {
  "kernelspec": {
   "display_name": "Python 3",
   "language": "python",
   "name": "python3"
  },
  "language_info": {
   "codemirror_mode": {
    "name": "ipython",
    "version": 3
   },
   "file_extension": ".py",
   "mimetype": "text/x-python",
   "name": "python",
   "nbconvert_exporter": "python",
   "pygments_lexer": "ipython3",
   "version": "3.7.0"
  }
 },
 "nbformat": 4,
 "nbformat_minor": 2
}
